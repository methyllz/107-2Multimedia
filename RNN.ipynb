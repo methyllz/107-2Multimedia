{
  "nbformat": 4,
  "nbformat_minor": 0,
  "metadata": {
    "colab": {
      "name": "RNN.ipynb",
      "version": "0.3.2",
      "provenance": [],
      "include_colab_link": true
    },
    "kernelspec": {
      "name": "python3",
      "display_name": "Python 3"
    }
  },
  "cells": [
    {
      "cell_type": "markdown",
      "metadata": {
        "id": "view-in-github",
        "colab_type": "text"
      },
      "source": [
        "<a href=\"https://colab.research.google.com/github/methyllz/107-2Multimedia/blob/master/RNN.ipynb\" target=\"_parent\"><img src=\"https://colab.research.google.com/assets/colab-badge.svg\" alt=\"Open In Colab\"/></a>"
      ]
    },
    {
      "cell_type": "code",
      "metadata": {
        "id": "0Q5dMMWl6gMV",
        "colab_type": "code",
        "colab": {
          "base_uri": "https://localhost:8080/",
          "height": 274
        },
        "outputId": "6c81b816-cd12-47bd-f829-06ec11137993"
      },
      "source": [
        "!pip install numpy==1.16.2"
      ],
      "execution_count": 1,
      "outputs": [
        {
          "output_type": "stream",
          "text": [
            "Collecting numpy==1.16.2\n",
            "\u001b[?25l  Downloading https://files.pythonhosted.org/packages/35/d5/4f8410ac303e690144f0a0603c4b8fd3b986feb2749c435f7cdbb288f17e/numpy-1.16.2-cp36-cp36m-manylinux1_x86_64.whl (17.3MB)\n",
            "\u001b[K     |████████████████████████████████| 17.3MB 12.0MB/s \n",
            "\u001b[31mERROR: datascience 0.10.6 has requirement folium==0.2.1, but you'll have folium 0.8.3 which is incompatible.\u001b[0m\n",
            "\u001b[31mERROR: albumentations 0.1.12 has requirement imgaug<0.2.7,>=0.2.5, but you'll have imgaug 0.2.9 which is incompatible.\u001b[0m\n",
            "\u001b[?25hInstalling collected packages: numpy\n",
            "  Found existing installation: numpy 1.16.4\n",
            "    Uninstalling numpy-1.16.4:\n",
            "      Successfully uninstalled numpy-1.16.4\n",
            "Successfully installed numpy-1.16.2\n"
          ],
          "name": "stdout"
        },
        {
          "output_type": "display_data",
          "data": {
            "application/vnd.colab-display-data+json": {
              "pip_warning": {
                "packages": [
                  "numpy"
                ]
              }
            }
          },
          "metadata": {
            "tags": []
          }
        }
      ]
    },
    {
      "cell_type": "code",
      "metadata": {
        "id": "59issYEo6jHx",
        "colab_type": "code",
        "colab": {
          "base_uri": "https://localhost:8080/",
          "height": 6290
        },
        "outputId": "d8658b4b-2478-4d5d-d327-b8527ed0a68c"
      },
      "source": [
        "!pip list"
      ],
      "execution_count": 2,
      "outputs": [
        {
          "output_type": "stream",
          "text": [
            "Package                  Version              \n",
            "------------------------ ---------------------\n",
            "absl-py                  0.7.1                \n",
            "alabaster                0.7.12               \n",
            "albumentations           0.1.12               \n",
            "altair                   3.1.0                \n",
            "astor                    0.8.0                \n",
            "astropy                  3.0.5                \n",
            "atari-py                 0.1.15               \n",
            "atomicwrites             1.3.0                \n",
            "attrs                    19.1.0               \n",
            "audioread                2.1.8                \n",
            "autograd                 1.2                  \n",
            "Babel                    2.7.0                \n",
            "backcall                 0.1.0                \n",
            "backports.tempfile       1.0                  \n",
            "backports.weakref        1.0.post1            \n",
            "beautifulsoup4           4.6.3                \n",
            "bleach                   3.1.0                \n",
            "blis                     0.2.4                \n",
            "bokeh                    1.0.4                \n",
            "boto                     2.49.0               \n",
            "boto3                    1.9.165              \n",
            "botocore                 1.12.165             \n",
            "Bottleneck               1.2.1                \n",
            "branca                   0.3.1                \n",
            "bs4                      0.0.1                \n",
            "bz2file                  0.98                 \n",
            "cachetools               3.1.1                \n",
            "certifi                  2019.3.9             \n",
            "cffi                     1.12.3               \n",
            "chainer                  5.4.0                \n",
            "chardet                  3.0.4                \n",
            "cityhash                 0.2.3.post9          \n",
            "Click                    7.0                  \n",
            "cloudpickle              0.6.1                \n",
            "cmake                    3.12.0               \n",
            "colorlover               0.3.0                \n",
            "community                1.0.0b1              \n",
            "contextlib2              0.5.5                \n",
            "convertdate              2.1.3                \n",
            "coverage                 3.7.1                \n",
            "coveralls                0.5                  \n",
            "crcmod                   1.7                  \n",
            "cufflinks                0.14.6               \n",
            "cvxopt                   1.2.3                \n",
            "cvxpy                    1.0.15               \n",
            "cycler                   0.10.0               \n",
            "cymem                    2.0.2                \n",
            "Cython                   0.29.10              \n",
            "daft                     0.0.4                \n",
            "dask                     1.1.5                \n",
            "dataclasses              0.6                  \n",
            "datascience              0.10.6               \n",
            "decorator                4.4.0                \n",
            "defusedxml               0.6.0                \n",
            "dill                     0.2.9                \n",
            "distributed              1.25.3               \n",
            "Django                   2.2.2                \n",
            "dlib                     19.16.0              \n",
            "dm-sonnet                1.33                 \n",
            "docopt                   0.6.2                \n",
            "docutils                 0.14                 \n",
            "dopamine-rl              1.0.5                \n",
            "easydict                 1.9                  \n",
            "ecos                     2.0.7.post1          \n",
            "editdistance             0.5.3                \n",
            "en-core-web-sm           2.1.0                \n",
            "entrypoints              0.3                  \n",
            "enum34                   1.1.6                \n",
            "ephem                    3.7.6.0              \n",
            "et-xmlfile               1.0.1                \n",
            "fa2                      0.3.5                \n",
            "fancyimpute              0.4.3                \n",
            "fastai                   1.0.52               \n",
            "fastcache                1.1.0                \n",
            "fastdtw                  0.3.2                \n",
            "fastprogress             0.1.21               \n",
            "fastrlock                0.4                  \n",
            "fbprophet                0.5                  \n",
            "feather-format           0.4.0                \n",
            "featuretools             0.4.1                \n",
            "filelock                 3.0.12               \n",
            "fix-yahoo-finance        0.0.22               \n",
            "Flask                    1.0.3                \n",
            "folium                   0.8.3                \n",
            "future                   0.16.0               \n",
            "gast                     0.2.2                \n",
            "GDAL                     2.2.2                \n",
            "gdown                    3.6.4                \n",
            "gensim                   3.6.0                \n",
            "geographiclib            1.49                 \n",
            "geopy                    1.17.0               \n",
            "gevent                   1.4.0                \n",
            "gin-config               0.1.4                \n",
            "glob2                    0.6                  \n",
            "google                   2.0.2                \n",
            "google-api-core          1.11.1               \n",
            "google-api-python-client 1.6.7                \n",
            "google-auth              1.4.2                \n",
            "google-auth-httplib2     0.0.3                \n",
            "google-auth-oauthlib     0.3.0                \n",
            "google-cloud-bigquery    1.8.1                \n",
            "google-cloud-core        0.29.1               \n",
            "google-cloud-language    1.0.2                \n",
            "google-cloud-storage     1.13.2               \n",
            "google-cloud-translate   1.3.3                \n",
            "google-colab             1.0.0                \n",
            "google-pasta             0.1.7                \n",
            "google-resumable-media   0.3.2                \n",
            "googleapis-common-protos 1.6.0                \n",
            "googledrivedownloader    0.4                  \n",
            "graph-nets               1.0.4                \n",
            "graphviz                 0.10.1               \n",
            "greenlet                 0.4.15               \n",
            "grpcio                   1.15.0               \n",
            "gspread                  3.0.1                \n",
            "gspread-dataframe        3.0.2                \n",
            "gunicorn                 19.9.0               \n",
            "gym                      0.10.11              \n",
            "h5py                     2.8.0                \n",
            "HeapDict                 1.0.0                \n",
            "holidays                 0.9.10               \n",
            "html5lib                 1.0.1                \n",
            "httpimport               0.5.16               \n",
            "httplib2                 0.11.3               \n",
            "humanize                 0.5.1                \n",
            "hyperopt                 0.1.2                \n",
            "ideep4py                 2.0.0.post3          \n",
            "idna                     2.8                  \n",
            "image                    1.5.27               \n",
            "imageio                  2.4.1                \n",
            "imagesize                1.1.0                \n",
            "imbalanced-learn         0.4.3                \n",
            "imblearn                 0.0                  \n",
            "imgaug                   0.2.9                \n",
            "importlib-metadata       0.18                 \n",
            "imutils                  0.5.2                \n",
            "inflect                  2.1.0                \n",
            "intel-openmp             2019.0               \n",
            "intervaltree             2.1.0                \n",
            "ipykernel                4.6.1                \n",
            "ipython                  5.5.0                \n",
            "ipython-genutils         0.2.0                \n",
            "ipython-sql              0.3.9                \n",
            "ipywidgets               7.4.2                \n",
            "itsdangerous             1.1.0                \n",
            "jdcal                    1.4.1                \n",
            "jedi                     0.13.3               \n",
            "jieba                    0.39                 \n",
            "Jinja2                   2.10.1               \n",
            "jmespath                 0.9.4                \n",
            "joblib                   0.13.2               \n",
            "jpeg4py                  0.1.4                \n",
            "jsonschema               2.6.0                \n",
            "jupyter                  1.0.0                \n",
            "jupyter-client           5.2.4                \n",
            "jupyter-console          6.0.0                \n",
            "jupyter-core             4.4.0                \n",
            "kaggle                   1.5.4                \n",
            "kapre                    0.1.3.1              \n",
            "Keras                    2.2.4                \n",
            "Keras-Applications       1.0.8                \n",
            "Keras-Preprocessing      1.1.0                \n",
            "keras-vis                0.4.1                \n",
            "kiwisolver               1.1.0                \n",
            "knnimpute                0.1.0                \n",
            "librosa                  0.6.3                \n",
            "lightgbm                 2.2.3                \n",
            "llvmlite                 0.29.0               \n",
            "lmdb                     0.95                 \n",
            "lucid                    0.3.8                \n",
            "lunardate                0.2.0                \n",
            "lxml                     4.2.6                \n",
            "magenta                  0.3.19               \n",
            "Markdown                 3.1.1                \n",
            "MarkupSafe               1.1.1                \n",
            "matplotlib               3.0.3                \n",
            "matplotlib-venn          0.11.5               \n",
            "mesh-tensorflow          0.0.5                \n",
            "mido                     1.2.6                \n",
            "mir-eval                 0.5                  \n",
            "missingno                0.4.1                \n",
            "mistune                  0.8.4                \n",
            "mkl                      2019.0               \n",
            "mlxtend                  0.14.0               \n",
            "more-itertools           7.0.0                \n",
            "moviepy                  0.2.3.5              \n",
            "mpi4py                   3.0.1                \n",
            "mpmath                   1.1.0                \n",
            "msgpack                  0.5.6                \n",
            "multiprocess             0.70.7               \n",
            "multitasking             0.0.9                \n",
            "murmurhash               1.0.2                \n",
            "music21                  5.5.0                \n",
            "natsort                  5.5.0                \n",
            "nbconvert                5.5.0                \n",
            "nbformat                 4.4.0                \n",
            "networkx                 2.3                  \n",
            "nibabel                  2.3.3                \n",
            "nltk                     3.2.5                \n",
            "nose                     1.3.7                \n",
            "notebook                 5.2.2                \n",
            "np-utils                 0.5.10.0             \n",
            "numba                    0.40.1               \n",
            "numexpr                  2.6.9                \n",
            "numpy                    1.16.2               \n",
            "nvidia-ml-py3            7.352.0              \n",
            "oauth2client             4.1.3                \n",
            "oauthlib                 3.0.1                \n",
            "okgrade                  0.4.3                \n",
            "olefile                  0.46                 \n",
            "opencv-contrib-python    3.4.3.18             \n",
            "opencv-python            3.4.5.20             \n",
            "openpyxl                 2.5.9                \n",
            "osqp                     0.5.0                \n",
            "packaging                19.0                 \n",
            "pandas                   0.24.2               \n",
            "pandas-datareader        0.7.0                \n",
            "pandas-gbq               0.4.1                \n",
            "pandas-profiling         1.4.1                \n",
            "pandocfilters            1.4.2                \n",
            "parso                    0.4.0                \n",
            "pathlib                  1.0.1                \n",
            "patsy                    0.5.1                \n",
            "pexpect                  4.7.0                \n",
            "pickleshare              0.7.5                \n",
            "Pillow                   4.3.0                \n",
            "pip                      19.1.1               \n",
            "pip-tools                3.6.1                \n",
            "plac                     0.9.6                \n",
            "plotly                   3.6.1                \n",
            "pluggy                   0.7.1                \n",
            "portpicker               1.2.0                \n",
            "prefetch-generator       1.0.1                \n",
            "preshed                  2.0.1                \n",
            "pretty-midi              0.2.8                \n",
            "prettytable              0.7.2                \n",
            "progressbar2             3.38.0               \n",
            "prometheus-client        0.7.0                \n",
            "promise                  2.2.1                \n",
            "prompt-toolkit           1.0.16               \n",
            "protobuf                 3.7.1                \n",
            "psutil                   5.4.8                \n",
            "psycopg2                 2.7.6.1              \n",
            "ptyprocess               0.6.0                \n",
            "py                       1.8.0                \n",
            "pyarrow                  0.13.0               \n",
            "pyasn1                   0.4.5                \n",
            "pyasn1-modules           0.2.5                \n",
            "pycocotools              2.0.0                \n",
            "pycparser                2.19                 \n",
            "pydot                    1.3.0                \n",
            "pydot-ng                 2.0.0                \n",
            "pydotplus                2.0.2                \n",
            "pyemd                    0.5.1                \n",
            "pyglet                   1.3.2                \n",
            "Pygments                 2.1.3                \n",
            "pygobject                3.26.1               \n",
            "pymc3                    3.7                  \n",
            "pymongo                  3.8.0                \n",
            "pymystem3                0.2.0                \n",
            "PyOpenGL                 3.1.0                \n",
            "pyparsing                2.4.0                \n",
            "pyrsistent               0.15.2               \n",
            "pysndfile                1.3.3                \n",
            "PySocks                  1.7.0                \n",
            "pystan                   2.19.0.0             \n",
            "pytest                   3.6.4                \n",
            "python-apt               1.6.4                \n",
            "python-chess             0.23.11              \n",
            "python-dateutil          2.5.3                \n",
            "python-louvain           0.13                 \n",
            "python-rtmidi            1.3.0                \n",
            "python-slugify           3.0.2                \n",
            "python-utils             2.3.0                \n",
            "pytz                     2018.9               \n",
            "PyWavelets               1.0.3                \n",
            "PyYAML                   3.13                 \n",
            "pyzmq                    17.0.0               \n",
            "qtconsole                4.5.1                \n",
            "requests                 2.21.0               \n",
            "requests-oauthlib        1.2.0                \n",
            "resampy                  0.2.1                \n",
            "retrying                 1.3.3                \n",
            "rpy2                     2.9.5                \n",
            "rsa                      4.0                  \n",
            "s3fs                     0.2.1                \n",
            "s3transfer               0.2.1                \n",
            "scikit-image             0.15.0               \n",
            "scikit-learn             0.21.2               \n",
            "scipy                    1.3.0                \n",
            "screen-resolution-extra  0.0.0                \n",
            "scs                      2.1.0                \n",
            "seaborn                  0.9.0                \n",
            "semantic-version         2.6.0                \n",
            "Send2Trash               1.5.0                \n",
            "setuptools               41.0.1               \n",
            "setuptools-git           1.2                  \n",
            "Shapely                  1.6.4.post2          \n",
            "simplegeneric            0.8.1                \n",
            "six                      1.12.0               \n",
            "sklearn                  0.0                  \n",
            "sklearn-pandas           1.8.0                \n",
            "smart-open               1.8.4                \n",
            "snowballstemmer          1.2.1                \n",
            "sortedcontainers         2.1.0                \n",
            "spacy                    2.1.4                \n",
            "Sphinx                   1.8.5                \n",
            "sphinxcontrib-websupport 1.1.2                \n",
            "SQLAlchemy               1.3.4                \n",
            "sqlparse                 0.3.0                \n",
            "srsly                    0.0.6                \n",
            "stable-baselines         2.2.1                \n",
            "statsmodels              0.9.0                \n",
            "sympy                    1.1.1                \n",
            "tables                   3.4.4                \n",
            "tabulate                 0.8.3                \n",
            "tblib                    1.4.0                \n",
            "tensor2tensor            1.11.0               \n",
            "tensorboard              1.13.1               \n",
            "tensorboardcolab         0.0.22               \n",
            "tensorflow               1.14.0rc1            \n",
            "tensorflow-estimator     1.14.0rc0            \n",
            "tensorflow-hub           0.4.0                \n",
            "tensorflow-metadata      0.13.0               \n",
            "tensorflow-probability   0.7.0rc0             \n",
            "termcolor                1.1.0                \n",
            "terminado                0.8.2                \n",
            "testpath                 0.4.2                \n",
            "text-unidecode           1.2                  \n",
            "textblob                 0.15.3               \n",
            "textgenrnn               1.4.1                \n",
            "tfds-nightly             1.0.2.dev201906100105\n",
            "tflearn                  0.3.2                \n",
            "Theano                   1.0.4                \n",
            "thinc                    7.0.4                \n",
            "toolz                    0.9.0                \n",
            "torch                    1.1.0                \n",
            "torchsummary             1.5.1                \n",
            "torchtext                0.3.1                \n",
            "torchvision              0.3.0                \n",
            "tornado                  4.5.3                \n",
            "tqdm                     4.28.1               \n",
            "traitlets                4.3.2                \n",
            "tweepy                   3.6.0                \n",
            "typing                   3.6.6                \n",
            "tzlocal                  1.5.1                \n",
            "umap-learn               0.3.9                \n",
            "uritemplate              3.0.0                \n",
            "urllib3                  1.24.3               \n",
            "vega-datasets            0.7.0                \n",
            "wasabi                   0.2.2                \n",
            "wcwidth                  0.1.7                \n",
            "webencodings             0.5.1                \n",
            "Werkzeug                 0.15.4               \n",
            "wheel                    0.33.4               \n",
            "widgetsnbextension       3.4.2                \n",
            "wordcloud                1.5.0                \n",
            "wrapt                    1.11.1               \n",
            "xarray                   0.11.3               \n",
            "xgboost                  0.90                 \n",
            "xkit                     0.0.0                \n",
            "xlrd                     1.1.0                \n",
            "xlwt                     1.3.0                \n",
            "yellowbrick              0.9.1                \n",
            "zict                     0.1.4                \n",
            "zipp                     0.5.1                \n",
            "zmq                      0.0.0                \n"
          ],
          "name": "stdout"
        }
      ]
    },
    {
      "cell_type": "code",
      "metadata": {
        "id": "1QMnhdRC6kVi",
        "colab_type": "code",
        "colab": {
          "base_uri": "https://localhost:8080/",
          "height": 393
        },
        "outputId": "9f5664a8-556e-4158-af38-dd784c023104"
      },
      "source": [
        "import numpy as np\n",
        "from keras.preprocessing import sequence\n",
        "from keras.models import Sequential\n",
        "from keras.layers import Dense, Embedding\n",
        "from keras.layers import LSTM\n",
        "from keras.datasets import imdb\n",
        "\n",
        "max_features = 8000\n",
        "maxlen = 88 # 設定長度為88的字串\n",
        "batch_size = 32\n",
        "\n",
        "print('載入資料...')\n",
        "\n",
        "(x_train, y_train), (x_test, y_test) = imdb.load_data(num_words=max_features)\n",
        "print(len(x_train), 'train sequences')\n",
        "print(len(x_test), 'test sequences')"
      ],
      "execution_count": 12,
      "outputs": [
        {
          "output_type": "stream",
          "text": [
            "載入資料...\n"
          ],
          "name": "stdout"
        },
        {
          "output_type": "error",
          "ename": "ValueError",
          "evalue": "ignored",
          "traceback": [
            "\u001b[0;31m---------------------------------------------------------------------------\u001b[0m",
            "\u001b[0;31mValueError\u001b[0m                                Traceback (most recent call last)",
            "\u001b[0;32m<ipython-input-12-56ac317423aa>\u001b[0m in \u001b[0;36m<module>\u001b[0;34m()\u001b[0m\n\u001b[1;32m     12\u001b[0m \u001b[0mprint\u001b[0m\u001b[0;34m(\u001b[0m\u001b[0;34m'載入資料...'\u001b[0m\u001b[0;34m)\u001b[0m\u001b[0;34m\u001b[0m\u001b[0;34m\u001b[0m\u001b[0m\n\u001b[1;32m     13\u001b[0m \u001b[0;34m\u001b[0m\u001b[0m\n\u001b[0;32m---> 14\u001b[0;31m \u001b[0;34m(\u001b[0m\u001b[0mx_train\u001b[0m\u001b[0;34m,\u001b[0m \u001b[0my_train\u001b[0m\u001b[0;34m)\u001b[0m\u001b[0;34m,\u001b[0m \u001b[0;34m(\u001b[0m\u001b[0mx_test\u001b[0m\u001b[0;34m,\u001b[0m \u001b[0my_test\u001b[0m\u001b[0;34m)\u001b[0m \u001b[0;34m=\u001b[0m \u001b[0mimdb\u001b[0m\u001b[0;34m.\u001b[0m\u001b[0mload_data\u001b[0m\u001b[0;34m(\u001b[0m\u001b[0mnum_words\u001b[0m\u001b[0;34m=\u001b[0m\u001b[0mmax_features\u001b[0m\u001b[0;34m)\u001b[0m\u001b[0;34m\u001b[0m\u001b[0;34m\u001b[0m\u001b[0m\n\u001b[0m\u001b[1;32m     15\u001b[0m \u001b[0mprint\u001b[0m\u001b[0;34m(\u001b[0m\u001b[0mlen\u001b[0m\u001b[0;34m(\u001b[0m\u001b[0mx_train\u001b[0m\u001b[0;34m)\u001b[0m\u001b[0;34m,\u001b[0m \u001b[0;34m'train sequences'\u001b[0m\u001b[0;34m)\u001b[0m\u001b[0;34m\u001b[0m\u001b[0;34m\u001b[0m\u001b[0m\n\u001b[1;32m     16\u001b[0m \u001b[0mprint\u001b[0m\u001b[0;34m(\u001b[0m\u001b[0mlen\u001b[0m\u001b[0;34m(\u001b[0m\u001b[0mx_test\u001b[0m\u001b[0;34m)\u001b[0m\u001b[0;34m,\u001b[0m \u001b[0;34m'test sequences'\u001b[0m\u001b[0;34m)\u001b[0m\u001b[0;34m\u001b[0m\u001b[0;34m\u001b[0m\u001b[0m\n",
            "\u001b[0;32m/usr/local/lib/python3.6/dist-packages/keras/datasets/imdb.py\u001b[0m in \u001b[0;36mload_data\u001b[0;34m(path, num_words, skip_top, maxlen, seed, start_char, oov_char, index_from, **kwargs)\u001b[0m\n\u001b[1;32m     57\u001b[0m                     file_hash='599dadb1135973df5b59232a0e9a887c')\n\u001b[1;32m     58\u001b[0m     \u001b[0;32mwith\u001b[0m \u001b[0mnp\u001b[0m\u001b[0;34m.\u001b[0m\u001b[0mload\u001b[0m\u001b[0;34m(\u001b[0m\u001b[0mpath\u001b[0m\u001b[0;34m)\u001b[0m \u001b[0;32mas\u001b[0m \u001b[0mf\u001b[0m\u001b[0;34m:\u001b[0m\u001b[0;34m\u001b[0m\u001b[0;34m\u001b[0m\u001b[0m\n\u001b[0;32m---> 59\u001b[0;31m         \u001b[0mx_train\u001b[0m\u001b[0;34m,\u001b[0m \u001b[0mlabels_train\u001b[0m \u001b[0;34m=\u001b[0m \u001b[0mf\u001b[0m\u001b[0;34m[\u001b[0m\u001b[0;34m'x_train'\u001b[0m\u001b[0;34m]\u001b[0m\u001b[0;34m,\u001b[0m \u001b[0mf\u001b[0m\u001b[0;34m[\u001b[0m\u001b[0;34m'y_train'\u001b[0m\u001b[0;34m]\u001b[0m\u001b[0;34m\u001b[0m\u001b[0;34m\u001b[0m\u001b[0m\n\u001b[0m\u001b[1;32m     60\u001b[0m         \u001b[0mx_test\u001b[0m\u001b[0;34m,\u001b[0m \u001b[0mlabels_test\u001b[0m \u001b[0;34m=\u001b[0m \u001b[0mf\u001b[0m\u001b[0;34m[\u001b[0m\u001b[0;34m'x_test'\u001b[0m\u001b[0;34m]\u001b[0m\u001b[0;34m,\u001b[0m \u001b[0mf\u001b[0m\u001b[0;34m[\u001b[0m\u001b[0;34m'y_test'\u001b[0m\u001b[0;34m]\u001b[0m\u001b[0;34m\u001b[0m\u001b[0;34m\u001b[0m\u001b[0m\n\u001b[1;32m     61\u001b[0m \u001b[0;34m\u001b[0m\u001b[0m\n",
            "\u001b[0;32m/usr/local/lib/python3.6/dist-packages/numpy/lib/npyio.py\u001b[0m in \u001b[0;36m__getitem__\u001b[0;34m(self, key)\u001b[0m\n\u001b[1;32m    260\u001b[0m                 \u001b[0;32mreturn\u001b[0m \u001b[0mself\u001b[0m\u001b[0;34m.\u001b[0m\u001b[0mzip\u001b[0m\u001b[0;34m.\u001b[0m\u001b[0mread\u001b[0m\u001b[0;34m(\u001b[0m\u001b[0mkey\u001b[0m\u001b[0;34m)\u001b[0m\u001b[0;34m\u001b[0m\u001b[0;34m\u001b[0m\u001b[0m\n\u001b[1;32m    261\u001b[0m         \u001b[0;32melse\u001b[0m\u001b[0;34m:\u001b[0m\u001b[0;34m\u001b[0m\u001b[0;34m\u001b[0m\u001b[0m\n\u001b[0;32m--> 262\u001b[0;31m             \u001b[0;32mraise\u001b[0m \u001b[0mKeyError\u001b[0m\u001b[0;34m(\u001b[0m\u001b[0;34m\"%s is not a file in the archive\"\u001b[0m \u001b[0;34m%\u001b[0m \u001b[0mkey\u001b[0m\u001b[0;34m)\u001b[0m\u001b[0;34m\u001b[0m\u001b[0;34m\u001b[0m\u001b[0m\n\u001b[0m\u001b[1;32m    263\u001b[0m \u001b[0;34m\u001b[0m\u001b[0m\n\u001b[1;32m    264\u001b[0m \u001b[0;34m\u001b[0m\u001b[0m\n",
            "\u001b[0;32m/usr/local/lib/python3.6/dist-packages/numpy/lib/format.py\u001b[0m in \u001b[0;36mread_array\u001b[0;34m(fp, allow_pickle, pickle_kwargs)\u001b[0m\n\u001b[1;32m    694\u001b[0m         \u001b[0;32mexcept\u001b[0m \u001b[0mUnicodeError\u001b[0m \u001b[0;32mas\u001b[0m \u001b[0merr\u001b[0m\u001b[0;34m:\u001b[0m\u001b[0;34m\u001b[0m\u001b[0;34m\u001b[0m\u001b[0m\n\u001b[1;32m    695\u001b[0m             \u001b[0;32mif\u001b[0m \u001b[0msys\u001b[0m\u001b[0;34m.\u001b[0m\u001b[0mversion_info\u001b[0m\u001b[0;34m[\u001b[0m\u001b[0;36m0\u001b[0m\u001b[0;34m]\u001b[0m \u001b[0;34m>=\u001b[0m \u001b[0;36m3\u001b[0m\u001b[0;34m:\u001b[0m\u001b[0;34m\u001b[0m\u001b[0;34m\u001b[0m\u001b[0m\n\u001b[0;32m--> 696\u001b[0;31m                 \u001b[0;31m# Friendlier error message\u001b[0m\u001b[0;34m\u001b[0m\u001b[0;34m\u001b[0m\u001b[0;34m\u001b[0m\u001b[0m\n\u001b[0m\u001b[1;32m    697\u001b[0m                 raise UnicodeError(\"Unpickling a python object failed: %r\\n\"\n\u001b[1;32m    698\u001b[0m                                    \u001b[0;34m\"You may need to pass the encoding= option \"\u001b[0m\u001b[0;34m\u001b[0m\u001b[0;34m\u001b[0m\u001b[0m\n",
            "\u001b[0;31mValueError\u001b[0m: Object arrays cannot be loaded when allow_pickle=False"
          ]
        }
      ]
    },
    {
      "cell_type": "code",
      "metadata": {
        "id": "kRpRfyzi6mow",
        "colab_type": "code",
        "colab": {
          "base_uri": "https://localhost:8080/",
          "height": 165
        },
        "outputId": "7fd4e480-7c53-40c6-e277-df1eccadc467"
      },
      "source": [
        "print(x_train[0])"
      ],
      "execution_count": 11,
      "outputs": [
        {
          "output_type": "error",
          "ename": "NameError",
          "evalue": "ignored",
          "traceback": [
            "\u001b[0;31m---------------------------------------------------------------------------\u001b[0m",
            "\u001b[0;31mNameError\u001b[0m                                 Traceback (most recent call last)",
            "\u001b[0;32m<ipython-input-11-660a44740e3f>\u001b[0m in \u001b[0;36m<module>\u001b[0;34m()\u001b[0m\n\u001b[0;32m----> 1\u001b[0;31m \u001b[0mprint\u001b[0m\u001b[0;34m(\u001b[0m\u001b[0mx_train\u001b[0m\u001b[0;34m[\u001b[0m\u001b[0;36m0\u001b[0m\u001b[0;34m]\u001b[0m\u001b[0;34m)\u001b[0m\u001b[0;34m\u001b[0m\u001b[0;34m\u001b[0m\u001b[0m\n\u001b[0m",
            "\u001b[0;31mNameError\u001b[0m: name 'x_train' is not defined"
          ]
        }
      ]
    },
    {
      "cell_type": "code",
      "metadata": {
        "id": "LjkuUbPj6nwB",
        "colab_type": "code",
        "colab": {
          "base_uri": "https://localhost:8080/",
          "height": 250
        },
        "outputId": "f1682304-cacf-456c-ed2c-5183b68c32b8"
      },
      "source": [
        "print('Pad sequences (samples x time)')\n",
        "x_train = sequence.pad_sequences(x_train, maxlen=maxlen)\n",
        "x_test = sequence.pad_sequences(x_test, maxlen=maxlen)\n",
        "print('x_train shape:', x_train.shape)\n",
        "print('x_test shape:', x_test.shape)"
      ],
      "execution_count": 9,
      "outputs": [
        {
          "output_type": "stream",
          "text": [
            "Pad sequences (samples x time)\n"
          ],
          "name": "stdout"
        },
        {
          "output_type": "error",
          "ename": "NameError",
          "evalue": "ignored",
          "traceback": [
            "\u001b[0;31m---------------------------------------------------------------------------\u001b[0m",
            "\u001b[0;31mNameError\u001b[0m                                 Traceback (most recent call last)",
            "\u001b[0;32m<ipython-input-9-790cb93290d2>\u001b[0m in \u001b[0;36m<module>\u001b[0;34m()\u001b[0m\n\u001b[1;32m      1\u001b[0m \u001b[0mprint\u001b[0m\u001b[0;34m(\u001b[0m\u001b[0;34m'Pad sequences (samples x time)'\u001b[0m\u001b[0;34m)\u001b[0m\u001b[0;34m\u001b[0m\u001b[0;34m\u001b[0m\u001b[0m\n\u001b[0;32m----> 2\u001b[0;31m \u001b[0mx_train\u001b[0m \u001b[0;34m=\u001b[0m \u001b[0msequence\u001b[0m\u001b[0;34m.\u001b[0m\u001b[0mpad_sequences\u001b[0m\u001b[0;34m(\u001b[0m\u001b[0mx_train\u001b[0m\u001b[0;34m,\u001b[0m \u001b[0mmaxlen\u001b[0m\u001b[0;34m=\u001b[0m\u001b[0mmaxlen\u001b[0m\u001b[0;34m)\u001b[0m\u001b[0;34m\u001b[0m\u001b[0;34m\u001b[0m\u001b[0m\n\u001b[0m\u001b[1;32m      3\u001b[0m \u001b[0mx_test\u001b[0m \u001b[0;34m=\u001b[0m \u001b[0msequence\u001b[0m\u001b[0;34m.\u001b[0m\u001b[0mpad_sequences\u001b[0m\u001b[0;34m(\u001b[0m\u001b[0mx_test\u001b[0m\u001b[0;34m,\u001b[0m \u001b[0mmaxlen\u001b[0m\u001b[0;34m=\u001b[0m\u001b[0mmaxlen\u001b[0m\u001b[0;34m)\u001b[0m\u001b[0;34m\u001b[0m\u001b[0;34m\u001b[0m\u001b[0m\n\u001b[1;32m      4\u001b[0m \u001b[0mprint\u001b[0m\u001b[0;34m(\u001b[0m\u001b[0;34m'x_train shape:'\u001b[0m\u001b[0;34m,\u001b[0m \u001b[0mx_train\u001b[0m\u001b[0;34m.\u001b[0m\u001b[0mshape\u001b[0m\u001b[0;34m)\u001b[0m\u001b[0;34m\u001b[0m\u001b[0;34m\u001b[0m\u001b[0m\n\u001b[1;32m      5\u001b[0m \u001b[0mprint\u001b[0m\u001b[0;34m(\u001b[0m\u001b[0;34m'x_test shape:'\u001b[0m\u001b[0;34m,\u001b[0m \u001b[0mx_test\u001b[0m\u001b[0;34m.\u001b[0m\u001b[0mshape\u001b[0m\u001b[0;34m)\u001b[0m\u001b[0;34m\u001b[0m\u001b[0;34m\u001b[0m\u001b[0m\n",
            "\u001b[0;31mNameError\u001b[0m: name 'x_train' is not defined"
          ]
        }
      ]
    },
    {
      "cell_type": "code",
      "metadata": {
        "id": "rMYIo3hb6o3f",
        "colab_type": "code",
        "colab": {
          "base_uri": "https://localhost:8080/",
          "height": 182
        },
        "outputId": "2d39251b-1f93-4844-c904-26b8b06e69d6"
      },
      "source": [
        "\n",
        "print(x_train[0])"
      ],
      "execution_count": 10,
      "outputs": [
        {
          "output_type": "error",
          "ename": "NameError",
          "evalue": "ignored",
          "traceback": [
            "\u001b[0;31m---------------------------------------------------------------------------\u001b[0m",
            "\u001b[0;31mNameError\u001b[0m                                 Traceback (most recent call last)",
            "\u001b[0;32m<ipython-input-10-bc5f7bafd12e>\u001b[0m in \u001b[0;36m<module>\u001b[0;34m()\u001b[0m\n\u001b[1;32m      1\u001b[0m \u001b[0;34m\u001b[0m\u001b[0m\n\u001b[0;32m----> 2\u001b[0;31m \u001b[0mprint\u001b[0m\u001b[0;34m(\u001b[0m\u001b[0mx_train\u001b[0m\u001b[0;34m[\u001b[0m\u001b[0;36m0\u001b[0m\u001b[0;34m]\u001b[0m\u001b[0;34m)\u001b[0m\u001b[0;34m\u001b[0m\u001b[0;34m\u001b[0m\u001b[0m\n\u001b[0m",
            "\u001b[0;31mNameError\u001b[0m: name 'x_train' is not defined"
          ]
        }
      ]
    },
    {
      "cell_type": "code",
      "metadata": {
        "id": "vA4m70vO6p3w",
        "colab_type": "code",
        "colab": {
          "base_uri": "https://localhost:8080/",
          "height": 377
        },
        "outputId": "1643d1cb-3a36-472e-b337-9dd0277d151f"
      },
      "source": [
        "print('建立模型...')\n",
        "model = Sequential()\n",
        "model.add(Embedding(max_features, 128))\n",
        "model.add(LSTM(128, dropout=0.3, recurrent_dropout=0.3))\n",
        "model.add(Dense(1, activation='sigmoid'))\n",
        "model.compile(loss='binary_crossentropy',\n",
        "  optimizer='adam',\n",
        "  metrics=['accuracy'])"
      ],
      "execution_count": 7,
      "outputs": [
        {
          "output_type": "stream",
          "text": [
            "WARNING: Logging before flag parsing goes to stderr.\n",
            "W0616 15:33:18.219035 140698914391936 deprecation_wrapper.py:119] From /usr/local/lib/python3.6/dist-packages/keras/backend/tensorflow_backend.py:74: The name tf.get_default_graph is deprecated. Please use tf.compat.v1.get_default_graph instead.\n",
            "\n",
            "W0616 15:33:18.268570 140698914391936 deprecation_wrapper.py:119] From /usr/local/lib/python3.6/dist-packages/keras/backend/tensorflow_backend.py:517: The name tf.placeholder is deprecated. Please use tf.compat.v1.placeholder instead.\n",
            "\n",
            "W0616 15:33:18.271945 140698914391936 deprecation_wrapper.py:119] From /usr/local/lib/python3.6/dist-packages/keras/backend/tensorflow_backend.py:4138: The name tf.random_uniform is deprecated. Please use tf.random.uniform instead.\n",
            "\n"
          ],
          "name": "stderr"
        },
        {
          "output_type": "stream",
          "text": [
            "建立模型...\n"
          ],
          "name": "stdout"
        },
        {
          "output_type": "stream",
          "text": [
            "W0616 15:33:18.569169 140698914391936 deprecation_wrapper.py:119] From /usr/local/lib/python3.6/dist-packages/keras/backend/tensorflow_backend.py:133: The name tf.placeholder_with_default is deprecated. Please use tf.compat.v1.placeholder_with_default instead.\n",
            "\n",
            "W0616 15:33:18.600475 140698914391936 deprecation.py:506] From /usr/local/lib/python3.6/dist-packages/keras/backend/tensorflow_backend.py:3445: calling dropout (from tensorflow.python.ops.nn_ops) with keep_prob is deprecated and will be removed in a future version.\n",
            "Instructions for updating:\n",
            "Please use `rate` instead of `keep_prob`. Rate should be set to `rate = 1 - keep_prob`.\n",
            "W0616 15:33:19.110389 140698914391936 deprecation_wrapper.py:119] From /usr/local/lib/python3.6/dist-packages/keras/optimizers.py:790: The name tf.train.Optimizer is deprecated. Please use tf.compat.v1.train.Optimizer instead.\n",
            "\n",
            "W0616 15:33:19.150037 140698914391936 deprecation_wrapper.py:119] From /usr/local/lib/python3.6/dist-packages/keras/backend/tensorflow_backend.py:3376: The name tf.log is deprecated. Please use tf.math.log instead.\n",
            "\n",
            "W0616 15:33:19.159149 140698914391936 deprecation.py:323] From /usr/local/lib/python3.6/dist-packages/tensorflow/python/ops/nn_impl.py:180: add_dispatch_support.<locals>.wrapper (from tensorflow.python.ops.array_ops) is deprecated and will be removed in a future version.\n",
            "Instructions for updating:\n",
            "Use tf.where in 2.0, which has the same broadcast rule as np.where\n"
          ],
          "name": "stderr"
        }
      ]
    },
    {
      "cell_type": "code",
      "metadata": {
        "id": "8j9LWBN56rDn",
        "colab_type": "code",
        "colab": {
          "base_uri": "https://localhost:8080/",
          "height": 250
        },
        "outputId": "6ced3830-11e0-4255-a023-3d9e916d3787"
      },
      "source": [
        "\n",
        "print('訓練和建立模型...')\n",
        "model.fit(x_train, y_train,\n",
        "  batch_size=batch_size,\n",
        "  epochs=2,\n",
        "  validation_data=(x_test, y_test))\n",
        "\n",
        "score, acc = model.evaluate(x_test, y_test,\n",
        "  batch_size=batch_size)"
      ],
      "execution_count": 8,
      "outputs": [
        {
          "output_type": "stream",
          "text": [
            "訓練和建立模型...\n"
          ],
          "name": "stdout"
        },
        {
          "output_type": "error",
          "ename": "NameError",
          "evalue": "ignored",
          "traceback": [
            "\u001b[0;31m---------------------------------------------------------------------------\u001b[0m",
            "\u001b[0;31mNameError\u001b[0m                                 Traceback (most recent call last)",
            "\u001b[0;32m<ipython-input-8-fde426b3898b>\u001b[0m in \u001b[0;36m<module>\u001b[0;34m()\u001b[0m\n\u001b[1;32m      1\u001b[0m \u001b[0;34m\u001b[0m\u001b[0m\n\u001b[1;32m      2\u001b[0m \u001b[0mprint\u001b[0m\u001b[0;34m(\u001b[0m\u001b[0;34m'訓練和建立模型...'\u001b[0m\u001b[0;34m)\u001b[0m\u001b[0;34m\u001b[0m\u001b[0;34m\u001b[0m\u001b[0m\n\u001b[0;32m----> 3\u001b[0;31m model.fit(x_train, y_train,\n\u001b[0m\u001b[1;32m      4\u001b[0m   \u001b[0mbatch_size\u001b[0m\u001b[0;34m=\u001b[0m\u001b[0mbatch_size\u001b[0m\u001b[0;34m,\u001b[0m\u001b[0;34m\u001b[0m\u001b[0;34m\u001b[0m\u001b[0m\n\u001b[1;32m      5\u001b[0m   \u001b[0mepochs\u001b[0m\u001b[0;34m=\u001b[0m\u001b[0;36m2\u001b[0m\u001b[0;34m,\u001b[0m\u001b[0;34m\u001b[0m\u001b[0;34m\u001b[0m\u001b[0m\n",
            "\u001b[0;31mNameError\u001b[0m: name 'x_train' is not defined"
          ]
        }
      ]
    },
    {
      "cell_type": "code",
      "metadata": {
        "id": "OmNjkmTy6sTg",
        "colab_type": "code",
        "colab": {}
      },
      "source": [
        "print('測試成績:', score)\n",
        "print('測試準確度:', acc)"
      ],
      "execution_count": 0,
      "outputs": []
    },
    {
      "cell_type": "code",
      "metadata": {
        "id": "zAsZGJiv6t1v",
        "colab_type": "code",
        "colab": {
          "base_uri": "https://localhost:8080/",
          "height": 165
        },
        "outputId": "4e678671-9f80-403f-a99d-5e98cad8cf7e"
      },
      "source": [
        "print(model.summary())"
      ],
      "execution_count": 6,
      "outputs": [
        {
          "output_type": "error",
          "ename": "NameError",
          "evalue": "ignored",
          "traceback": [
            "\u001b[0;31m---------------------------------------------------------------------------\u001b[0m",
            "\u001b[0;31mNameError\u001b[0m                                 Traceback (most recent call last)",
            "\u001b[0;32m<ipython-input-6-3caefa261807>\u001b[0m in \u001b[0;36m<module>\u001b[0;34m()\u001b[0m\n\u001b[0;32m----> 1\u001b[0;31m \u001b[0mprint\u001b[0m\u001b[0;34m(\u001b[0m\u001b[0mmodel\u001b[0m\u001b[0;34m.\u001b[0m\u001b[0msummary\u001b[0m\u001b[0;34m(\u001b[0m\u001b[0;34m)\u001b[0m\u001b[0;34m)\u001b[0m\u001b[0;34m\u001b[0m\u001b[0;34m\u001b[0m\u001b[0m\n\u001b[0m",
            "\u001b[0;31mNameError\u001b[0m: name 'model' is not defined"
          ]
        }
      ]
    },
    {
      "cell_type": "code",
      "metadata": {
        "id": "PgSv6h5O6vGf",
        "colab_type": "code",
        "colab": {
          "base_uri": "https://localhost:8080/",
          "height": 199
        },
        "outputId": "b0afe565-31ee-4446-b460-159ff9c365ea"
      },
      "source": [
        "\n",
        "predict=model.predict_classes(x_test)\n",
        "predict[0:8]"
      ],
      "execution_count": 5,
      "outputs": [
        {
          "output_type": "error",
          "ename": "NameError",
          "evalue": "ignored",
          "traceback": [
            "\u001b[0;31m---------------------------------------------------------------------------\u001b[0m",
            "\u001b[0;31mNameError\u001b[0m                                 Traceback (most recent call last)",
            "\u001b[0;32m<ipython-input-5-55c855251b7c>\u001b[0m in \u001b[0;36m<module>\u001b[0;34m()\u001b[0m\n\u001b[1;32m      1\u001b[0m \u001b[0;34m\u001b[0m\u001b[0m\n\u001b[0;32m----> 2\u001b[0;31m \u001b[0mpredict\u001b[0m\u001b[0;34m=\u001b[0m\u001b[0mmodel\u001b[0m\u001b[0;34m.\u001b[0m\u001b[0mpredict_classes\u001b[0m\u001b[0;34m(\u001b[0m\u001b[0mx_test\u001b[0m\u001b[0;34m)\u001b[0m\u001b[0;34m\u001b[0m\u001b[0;34m\u001b[0m\u001b[0m\n\u001b[0m\u001b[1;32m      3\u001b[0m \u001b[0mpredict\u001b[0m\u001b[0;34m[\u001b[0m\u001b[0;36m0\u001b[0m\u001b[0;34m:\u001b[0m\u001b[0;36m8\u001b[0m\u001b[0;34m]\u001b[0m\u001b[0;34m\u001b[0m\u001b[0;34m\u001b[0m\u001b[0m\n",
            "\u001b[0;31mNameError\u001b[0m: name 'model' is not defined"
          ]
        }
      ]
    },
    {
      "cell_type": "code",
      "metadata": {
        "id": "aVBlTx3S6wRP",
        "colab_type": "code",
        "colab": {}
      },
      "source": [
        ""
      ],
      "execution_count": 0,
      "outputs": []
    }
  ]
}